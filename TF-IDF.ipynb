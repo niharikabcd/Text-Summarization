{
 "cells": [
  {
   "cell_type": "markdown",
   "metadata": {},
   "source": [
    "TF-IDF Summerization"
   ]
  },
  {
   "cell_type": "code",
   "execution_count": 1,
   "metadata": {},
   "outputs": [],
   "source": [
    "import nltk\n",
    "from sklearn.feature_extraction.text import TfidfVectorizer\n",
    "from nltk.tokenize import sent_tokenize, word_tokenize\n",
    "from nltk.corpus import stopwords\n",
    "import numpy as np"
   ]
  },
  {
   "cell_type": "code",
   "execution_count": 2,
   "metadata": {},
   "outputs": [
    {
     "name": "stderr",
     "output_type": "stream",
     "text": [
      "[nltk_data] Downloading package punkt to\n",
      "[nltk_data]     C:\\Users\\user\\AppData\\Roaming\\nltk_data...\n",
      "[nltk_data]   Package punkt is already up-to-date!\n",
      "[nltk_data] Downloading package stopwords to\n",
      "[nltk_data]     C:\\Users\\user\\AppData\\Roaming\\nltk_data...\n",
      "[nltk_data]   Package stopwords is already up-to-date!\n"
     ]
    },
    {
     "data": {
      "text/plain": [
       "True"
      ]
     },
     "execution_count": 2,
     "metadata": {},
     "output_type": "execute_result"
    }
   ],
   "source": [
    "nltk.download('punkt')\n",
    "nltk.download('stopwords')"
   ]
  },
  {
   "cell_type": "code",
   "execution_count": 3,
   "metadata": {},
   "outputs": [],
   "source": [
    "def preprocess_text(text):\n",
    "    sentences = sent_tokenize(text)\n",
    "    return sentences"
   ]
  },
  {
   "cell_type": "code",
   "execution_count": 4,
   "metadata": {},
   "outputs": [],
   "source": [
    "def compute_tfidf(sentences):\n",
    "    stop_words = stopwords.words('english')\n",
    "    vectorizer = TfidfVectorizer(stop_words=stop_words)\n",
    "    tfidf_matrix = vectorizer.fit_transform(sentences)\n",
    "    return tfidf_matrix"
   ]
  },
  {
   "cell_type": "code",
   "execution_count": 5,
   "metadata": {},
   "outputs": [],
   "source": [
    "def rank_sentences(sentences, tfidf_matrix):\n",
    "    sentence_scores = np.sum(tfidf_matrix.toarray(), axis=1)\n",
    "    ranked_sentence_indices = np.argsort(sentence_scores)[::-1]\n",
    "    ranked_sentences = [sentences[i] for i in ranked_sentence_indices]\n",
    "    return ranked_sentences"
   ]
  },
  {
   "cell_type": "code",
   "execution_count": 6,
   "metadata": {},
   "outputs": [],
   "source": [
    "def summarize_text(text, num_sentences=2):\n",
    "    sentences = preprocess_text(text)\n",
    "    tfidf_matrix = compute_tfidf(sentences)\n",
    "    ranked_sentences = rank_sentences(sentences, tfidf_matrix)\n",
    "    summary = ' '.join(ranked_sentences[:num_sentences])\n",
    "    return summary"
   ]
  },
  {
   "cell_type": "code",
   "execution_count": 7,
   "metadata": {},
   "outputs": [],
   "source": [
    "import pandas as pd"
   ]
  },
  {
   "cell_type": "code",
   "execution_count": 8,
   "metadata": {},
   "outputs": [],
   "source": [
    "data1=pd.read_csv('test.csv')"
   ]
  },
  {
   "cell_type": "code",
   "execution_count": 9,
   "metadata": {},
   "outputs": [
    {
     "name": "stdout",
     "output_type": "stream",
     "text": [
      "Generated Summary: This week, a U.S consumer advisory group set up by the Department of Transportation said at a public hearing that while the government is happy to set standards for animals flying on planes, it doesn't stipulate a minimum amount of space for humans. But could crowding on planes lead to more serious issues than fighting for space in the overhead lockers, crashing elbows and seat back kicking?\n",
      "Reference Summary: Experts question if  packed out planes are putting passengers at risk .\n",
      "U.S consumer advisory group says minimum space must be stipulated .\n",
      "Safety tests conducted on planes with more leg room than airlines offer .\n",
      "67 36\n",
      "\n",
      "\n",
      "Generated Summary: Brave fool: Fortunately, Mr Kumar  fell into a moat as he ran towards the lions and could be rescued by zoo security staff before reaching the animals (stock image) Kumar later explained: 'I don't really know why I did it. Next level drunk: Intoxicated Rahul Kumar, 17, climbed into the lions' enclosure at a zoo in Ahmedabad and began running towards the animals shouting 'Today I kill a lion!'\n",
      "Reference Summary: Drunk teenage boy climbed into lion enclosure at zoo in west India .\n",
      "Rahul Kumar, 17, ran towards animals shouting 'Today I kill a lion!'\n",
      "Fortunately he fell into a moat before reaching lions and was rescued .\n",
      "69 38\n",
      "\n",
      "\n",
      "Generated Summary: Freedman has stabilised Forest since he replaced cult hero Stuart Pearce and the club's owners are pleased with the job he has done at the City Ground. They made an audacious attempt on the play-off places when Freedman replaced Pearce but have tailed off in recent weeks.\n",
      "Reference Summary: Nottingham Forest are close to extending Dougie Freedman's contract .\n",
      "The Forest boss took over from former manager Stuart Pearce in February .\n",
      "Freedman has since lead the club to ninth in the Championship .\n",
      "47 35\n",
      "\n",
      "\n",
      "Generated Summary: Liverpool target Neto is also wanted by PSG and clubs in Spain as Brendan Rodgers faces stiff competition to land the Fiorentina goalkeeper, according to the Brazilian's agent Stefano Castagna. The Reds were linked with a move for the 25-year-old, whose contract expires in June, earlier in the season when Simon Mignolet was dropped from the side.\n",
      "Reference Summary: Fiorentina goalkeeper Neto has been linked with Liverpool and Arsenal .\n",
      "Neto joined Firoentina from Brazilian outfit Atletico Paranaense in 2011 .\n",
      "He is also wanted by PSG and Spanish clubs, according to his agent .\n",
      "CLICK HERE for the latest Liverpool news .\n",
      "57 44\n",
      "\n",
      "\n",
      "Generated Summary: His behavior over the past year also fueled speculation as he began embracing an increasingly female appearance, including growing out his hair, shaving his legs and painting his nails, while reportedly undergoing hormone therapy. The former Olympian and reality TV star, 65, will speak in a 'far-ranging' interview with Sawyer for a special edition of '20/20' on Friday April 24, ABC News announced on Monday.\n",
      "Reference Summary: Tell-all interview with the reality TV star, 69, will air on Friday April 24 .\n",
      "It comes amid continuing speculation about his transition to a woman and following his involvement in a deadly car crash in February .\n",
      "The interview will also be one of Diane Sawyer's first appearances on television following the sudden death of her husband last year .\n",
      "65 61\n",
      "\n",
      "\n",
      "Generated Summary: The two-hour rescue operation ended with the wayward horse being fitted with straps under her belly and lifted up into the air with an all-terrain crane before being swung around and deposited back on dry land. Two fire crews and a specialist animal rescue team had to use slide boards and strops to haul the huge black pig from the small pool.\n",
      "Reference Summary: Giant pig fell into the swimming pool at his home in Ringwood, Hampshire .\n",
      "It took the efforts of a team of firefighters to winch him out of the water .\n",
      "A wayward horse also had to be rescued from a swimming pool in Sussex .\n",
      "62 46\n",
      "\n",
      "\n",
      "Generated Summary: ‘[Those ways] aren’t reflected in the traditional listening figures quoted here – like watching videos from radio shows or listening to podcasts.’ BBC radio is still reaching 65 per cent of the population each week, according to the last set of figures available from RAJAR, the organisation which measures radio audiences. Earlier this month, Matthew Postgate, the BBC’s chief technology officer, said the Corporation would adopt a new ‘digital first’ strategy, to help it target a new generation of users.\n",
      "Reference Summary: Figures show that while millions still tune in they listen for shorter bursts .\n",
      "Average listener spent ten hours a week tuning in last three months of 2014 .\n",
      "This was 14% down on decade earlier, when people tuned in for 11.6 hours .\n",
      "The BBC Trust has cleared the way for firms to buy their way into lifestyle programmes on the World News channel in a product placement experiment. For example, publishers could pay to have their books reviewed on Talking Books. The BBC Trust will review the scheme in a year.\n",
      "80 93\n",
      "\n",
      "\n",
      "Generated Summary: \"As big fans of the original Full House, we are thrilled to be able to introduce Fuller House's new narrative to existing fans worldwide, who grew up on the original, as well as a new generation of global viewers that have grown up with the Tanners in syndication,\"  Netflix Vice President of Original Content Cindy Holland said in a statement. Co-star John Stamos announced Monday night on \"Jimmy Kimmel Live\" that Netflix has ordered up a reunion special, followed by a spinoff series called \"Fuller House.\"\n",
      "Reference Summary: Show will return with a one-hour special, followed by spinoff, star John Stamos says .\n",
      "He announced the show Monday night on \"Jimmy Kimmel Live\"\n",
      "86 25\n",
      "\n",
      "\n",
      "Generated Summary: At 11:20pm, former world champion Ken Doherty potted a final black and extinguished, for now, the dream of Reanne Evans to become the first women player to play the hallowed baize of Sheffield's Crucible Theatre in the world snooker championship. Snooker's governing body had been criticised in some quarters for allowing Evans a wild card to compete alongside 127 male players for the right to play in the sport's blue-chip event on April 18 - something no female had achieved.\n",
      "Reference Summary: Reanne Evans faced Ken Doherty in World Championship qualifier .\n",
      "Doherty won the world championship in 1997 .\n",
      "Evans lost the first frame 71-15 against Doherty .\n",
      "But the Dudley native fought back to lead 4-3 .\n",
      "Ken Doherty, however, managed to close out an enthralling contest 10-8 .\n",
      "80 49\n",
      "\n",
      "\n",
      "Generated Summary: Justice: The judge rejected the argument put forward by the defence at Oxford Crown Court (pictured), who accused the girls of coming forward because 'it's better to be a victim than a slag' Those jailed on Friday afternoon at Oxford Crown Court were: Ahmed Hassan-Sule, 21, of Banbury, who was found guilty of 13 counts of sexual activity with a child and one count of assault by penetration. Sentencing Hassan-Sule and the others in a court packed with friends and relatives of the defendants and victims yesterday, Judge Zoe Smith said: 'You put on charity events to raise money for your football club.\n",
      "Reference Summary: Gang have been jailed for a total of 31 years for sexually abusing children .\n",
      "Offences happened in cars, woods or at the defendants' homes in Banbury .\n",
      "Lured victims to parties organised on social media and then abused them .\n",
      "Girls aged between 13 and 16 were exploited by the gang from 2009 to 2014 .\n",
      "103 57\n",
      "\n",
      "\n",
      "Generated Summary: In the dock: Malek affords a smile alongside his alleged smuggler accomplice, a 26-year-old Syrian crew member named Mahmud Bikhit, who was also arrested and charged with 'favouring illegal immigration' A police handout showing Mohammed Ali Malek (left) and Mahmud Bikhit (right) after their arrest in Malta . While Mr Abbott's controversial policy has proved successful, with the nation going nearly 18 months with virtually no asylum-seeker boat arrivals and no reported deaths at sea, human rights advocates say it violates Australia's international obligations.\n",
      "Reference Summary: Mohammed Ali Malek, 27, has been charged with multiple manslaughter .\n",
      "Arrived in Malta on Italian rescue ship with bodies of 24 migrant victims .\n",
      "He was arrested alongside his 26-year-old Syrian 'smuggler accomplice'\n",
      "Prosecutors say Malek crashed into ship which had come to its rescue .\n",
      "Migrants then shifted position as result of collision, causing it to capsize .\n",
      "84 60\n",
      "\n",
      "\n",
      "Generated Summary: Kim insisted he had acted alone and not on the orders of Pyongyang, but prosecutors said they were looking into whether he has violated the South's strict National Security Law banning any act seen as aiding North Korea or promoting its ideology. Mark Lippert, 42, suffered deep gashes to his cheek and hand when he was assaulted by knife-wielding nationalist Kim Ki-Jong at a breakfast function in central Seoul last month.\n",
      "Reference Summary: Lippert, 42, suffered deep gashes to his hand when he was assaulted by knife-wielding nationalist Kim Ki-Jong in central Seoul last month .\n",
      "'It is an amazing apparatus, one I haven't seen before - so innovative and creative,' he wrote on Facebook .\n",
      "71 43\n",
      "\n",
      "\n",
      "Generated Summary: That allowed Ian Bell to arrive at the crease, with batting time more important to the tourists than attempting to force a result in this two-day fixture. Ian Bell plays to the offside during day two of the St Kitts and Nevis Invitational XI versus England tour match .\n",
      "Reference Summary: Alastair Cook completed his century on the second morning of action .\n",
      "England captain resumed on 95 and reached three figures before retiring .\n",
      "That allowed Ian Bell to arrive at the crease as tourists continued to bat .\n",
      "49 39\n",
      "\n",
      "\n",
      "Generated Summary: Second, President Barack Obama should appoint a senior-level person, perhaps working in the White House on the National Security Council, to oversee the work of the CIA, FBI, State Department and the Joint Special Operations Command, which implements hostage rescues. The Qataris have had longstanding ties to the militant groups in Syria, including the al Qaeda affiliate holding Curtis, and while Qatari officials have denied paying ransom to free Curtis, it's unlikely that the journalist was freed just because the members of al Qaeda holding him were suddenly feeling like good guys.\n",
      "Reference Summary: U.S. hostage Warren Weinstein is believed to have been accidentally killed in counter-terrorism strike .\n",
      "Peter Bergen: U.S. should rethink hostage policy to increase chances of freeing those held .\n",
      "92 30\n",
      "\n",
      "\n",
      "Generated Summary: Argentinian news website DiarioVeloz.com said Davila, who worked in PR for a bowling alley, told police she was forced to commit the crimes to pay off her debts to a drug dealer . Argentinian con-artist Sofia Davila posted raunchy pictures or herself online and then flirted with unsuspecting men she had contacted on the social network, suggesting they meet up for sex.\n",
      "Reference Summary: Sofia Davila, 21, nicknamed the 'Black Widow of Facebook' over crimes .\n",
      "Caught after going to police, claiming she was forced out her victim's flat .\n",
      "She has admitted bedding and robbing 15 men after spiking their drinks .\n",
      "62 39\n",
      "\n",
      "\n",
      "Generated Summary: Gershon Nimbalker, an advocacy manager at Baptist World Aid told Daily Mail Australia that part of the motivation behind the report was to shed light on how many of the world's 165 million children involved in child labour were employed by the fashion industry. Uzbekistan for instance, the world's fifth largest exporter of cotton, was notorious for its  child labour policies which saw children as young as 10 forced to work in the fields until the government recently  improved conditions by renouncing the use of child labour 'on a systematic basis'.\n",
      "Reference Summary: Australian Fashion Report revealed the Australian-sold brands and companies that ignore the exploitation of their overseas workers .\n",
      "Lowes, Industrie, Best & Less and the Just Group - which includes Just Jeans, Portmans and Dotti - were  some of the worst performers .\n",
      "Etiko, Audrey Blue, Cotton On, H&M and Zara had some of the best scores .\n",
      "75 per cent of companies don't know the source of all their fabrics and inputs .\n",
      "91 74\n",
      "\n",
      "\n",
      "Generated Summary: Arsenal's midfield trio Jack Wilshere, Mikel Arteta and Abou Diaby have all been handed starts for the club's Under 21s game on Tuesday night as they continue their respective recoveries from injury. Wilshere has been out of action since November after breaking his foot against Manchester United, as has club captain Arteta who picked up an ankle injury at home to Borussia Dortmund.\n",
      "Reference Summary: Arsenal take on Stoke City in Barclays Under 21 Premier League clash .\n",
      "Jack Wilshere and club captain Mikel Arteta have been out since November .\n",
      "Abou Diaby has been ravaged by injuries during nine-year spell at club .\n",
      "Arteta, Wilshere and Diaby are all close to first-team returns .\n",
      "Young winger Serge Gnabry also in the side on return from injury .\n",
      "READ: Arsenal's Alex Oxlade-Chamberlain, Calum Chambers, Jack Wilshere and Danny Welbeck keep their agents close .\n",
      "CLICK HERE for all the latest Arsenal news .\n",
      "63 88\n",
      "\n",
      "\n",
      "Generated Summary: At the time Mr Prasanna was attacked, McInerney was serving a seven month suspended sentence suspended for 15 months for a similar theft from a motor vehicle at a cash and carry in Sheerness, in which a man who tried to stop him fell into the road. You pushed him out of the vehicle which began the chain of events that led to his death.’ McInerney, from Borehamwood, Hertforshire, who was living at the time in Radwell, Bedforshire, appeared via a video link from Woodhill Prison, Milton Keynes.\n",
      "Reference Summary: Prasanna Arulchelvam leapt into van as it sped away but was pushed out .\n",
      "His head hit the ground with a 'nasty crunch' and he died 11 days later .\n",
      "A gang tried to steal cigarettes from the victim's van before he gave chase .\n",
      "All three have now been jailed, including the man who pushed Mr Prasanna .\n",
      "88 59\n",
      "\n",
      "\n",
      "Generated Summary: The reason people are seeing an intense red sunset is a result of smoke particles filtering out the shorter wavelength colors from the sunlight like greens, blues, yellows and purples, KOMO-TV said. But on April 14, it is believed that the flames quickly grew out of control because of strong winds and spread throughout the region, according to CNN affiliate KOMO-TV.\n",
      "Reference Summary: Smoke from massive fires in Siberia created fiery sunsets in the Pacific Northwest .\n",
      "Atmospheric winds carried smoke from the wildfires across the Pacific Ocean .\n",
      "Smoke particles altered wavelengths from the sun, creating a more intense color .\n",
      "61 39\n",
      "\n",
      "\n",
      "Generated Summary: While Roman-era camel bones occasionally surface in Austria, Serbia and Belgium, the Tulln discovery was the first complete camel skeleton to emerge in Central Europe. Galik and his team also said the cross-breed camel had been most likely used as a riding and transport animal by the Ottoman army during the Siege of Vienna in 1683.\n",
      "Reference Summary: Scientists say camel was left in Tulln after the 1683 siege of Vienna .\n",
      "It would have shocked residents as camels were an alien species .\n",
      "'They didn't know what to feed it or whether one could eat it,' study said .\n",
      "Ottoman army used camels for transportation and as riding animals .\n",
      "56 53\n",
      "\n",
      "\n"
     ]
    }
   ],
   "source": [
    "#data=pd.read_csv('preprocessed_test_data_2.csv')\n",
    "for i in range(20):\n",
    "    generated_summary = summarize_text(data1.article[i], num_sentences=2)\n",
    "    print(f\"Generated Summary: {generated_summary}\")\n",
    "    print(f\"Reference Summary: {data1.highlights[i]}\")\n",
    "    k=generated_summary.split()\n",
    "    j=data1.highlights[i].split()\n",
    "    print(len(k),len(j))\n",
    "    print(\"\\n\")"
   ]
  },
  {
   "cell_type": "code",
   "execution_count": 10,
   "metadata": {},
   "outputs": [
    {
     "name": "stdout",
     "output_type": "stream",
     "text": [
      "generated_summary is:\n",
      " The kinds of posts where people update friends and family about their lives have become harder to see over the years as the biggest sites have become increasingly “corporatized.” Instead of seeing messages and photos from friends and relatives about their holidays or fancy dinners, users of Instagram, Facebook, TikTok, Twitter and Snapchat now often view professionalized content from brands, influencers and others that pay for placement. Nearly two decades ago, Facebook exploded on college campuses as a site for students to stay in touch.\n",
      "refernece_summary is: \n",
      "The text discusses the evolution of social media from platforms for personal connection and updates to spaces dominated by ads, sponsored posts, and professional content. Initially, sites like Facebook and Instagram were used by friends and family to share personal updates and photos. However, over the years, these platforms, along with Twitter, TikTok, and Snapchat, have become increasingly commercialized. As a result, personal posts are now overshadowed by content from brands, influencers, and paid promotions, making social media less social and more corporate.\n"
     ]
    }
   ],
   "source": [
    "text='''Nearly two decades ago, Facebook exploded on college campuses as a site for students to stay in touch. Then came Twitter, where people posted about what they had for breakfast, and Instagram, where friends shared photos to keep up with one another.\n",
    "Today,Instagram and Facebook feeds are full of ads and sponsored posts. TikTok and Snapchat are stuffed with videos from influencers promoting dish soaps and dating apps. And soon, Twitter posts that gain the most visibility will come mostly from subscribers who pay for the exposure and other perks.\n",
    "Social media is, in many ways, becoming less social. The kinds of posts where people update friends and family about their lives have become harder to see over the years as the biggest sites have become increasingly “corporatized.” Instead of seeing messages and photos from friends and relatives about their holidays or fancy dinners, users of Instagram, Facebook, TikTok, Twitter and Snapchat now often view professionalized content from brands, influencers and others that pay for placement.'''\n",
    "\n",
    "reference_summary=\"\"\"\n",
    "The text discusses the evolution of social media from platforms for personal connection and updates to spaces dominated by ads, sponsored posts, and professional content. Initially, sites like Facebook and Instagram were used by friends and family to share personal updates and photos. However, over the years, these platforms, along with Twitter, TikTok, and Snapchat, have become increasingly commercialized. As a result, personal posts are now overshadowed by content from brands, influencers, and paid promotions, making social media less social and more corporate.\"\"\"\n",
    "summary=summarize_text(text,num_sentences=2)\n",
    "print(\"generated_summary is:\\n\",summary)\n",
    "print(\"refernece_summary is:\",reference_summary)"
   ]
  }
 ],
 "metadata": {
  "kernelspec": {
   "display_name": "Python 3",
   "language": "python",
   "name": "python3"
  },
  "language_info": {
   "codemirror_mode": {
    "name": "ipython",
    "version": 3
   },
   "file_extension": ".py",
   "mimetype": "text/x-python",
   "name": "python",
   "nbconvert_exporter": "python",
   "pygments_lexer": "ipython3",
   "version": "3.8.10"
  }
 },
 "nbformat": 4,
 "nbformat_minor": 2
}
